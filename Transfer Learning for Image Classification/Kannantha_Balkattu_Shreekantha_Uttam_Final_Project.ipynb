{
  "nbformat": 4,
  "nbformat_minor": 0,
  "metadata": {
    "colab": {
      "provenance": [],
      "include_colab_link": true
    },
    "kernelspec": {
      "name": "python3",
      "display_name": "Python 3"
    },
    "language_info": {
      "name": "python"
    },
    "accelerator": "GPU",
    "gpuClass": "standard"
  },
  "cells": [
    {
      "cell_type": "markdown",
      "metadata": {
        "id": "view-in-github",
        "colab_type": "text"
      },
      "source": [
        "<a href=\"https://colab.research.google.com/github/DSCI-552/final-project-Uttamkannantha/blob/main/Kannantha_Balkattu_Shreekantha_Uttam_Final_Project.ipynb\" target=\"_parent\"><img src=\"https://colab.research.google.com/assets/colab-badge.svg\" alt=\"Open In Colab\"/></a>"
      ]
    },
    {
      "cell_type": "markdown",
      "source": [
        "First Name: Balkattu Shreekantha Uttam<br>\n",
        "Last Name: Kannantha<br>\n",
        "USC ID: 9202391620<br>\n",
        "Github username: Uttamkannantha"
      ],
      "metadata": {
        "id": "iqzwnoIymINN"
      }
    },
    {
      "cell_type": "markdown",
      "source": [
        "Transfer Learning for Image Classification"
      ],
      "metadata": {
        "id": "MPNE8Ow-mKnG"
      }
    },
    {
      "cell_type": "markdown",
      "source": [
        "(a)\n",
        "In this problem, we are trying to build a classifier that distinguishes images of 20 bird species. You are provided with text data in twenty folders."
      ],
      "metadata": {
        "id": "m7St41rYmP0K"
      }
    },
    {
      "cell_type": "code",
      "source": [
        "pip install split-folders"
      ],
      "metadata": {
        "colab": {
          "base_uri": "https://localhost:8080/"
        },
        "id": "_qYWVv95AgR-",
        "outputId": "ade7fa13-546a-497f-b4f0-8429373037a5"
      },
      "execution_count": 1,
      "outputs": [
        {
          "output_type": "stream",
          "name": "stdout",
          "text": [
            "Looking in indexes: https://pypi.org/simple, https://us-python.pkg.dev/colab-wheels/public/simple/\n",
            "Collecting split-folders\n",
            "  Downloading split_folders-0.5.1-py3-none-any.whl (8.4 kB)\n",
            "Installing collected packages: split-folders\n",
            "Successfully installed split-folders-0.5.1\n"
          ]
        }
      ]
    },
    {
      "cell_type": "code",
      "source": [
        "import matplotlib.pyplot as plt\n",
        "import numpy as np\n",
        "import keras\n",
        "from tensorflow.keras.applications import EfficientNetB0\n",
        "\n",
        "from sklearn.metrics import accuracy_score, confusion_matrix, classification_report\n",
        "import tensorflow as tf\n",
        "from keras.layers import Dropout, Dense, GlobalMaxPooling2D\n",
        "from keras.optimizers import Adam\n",
        "from tensorflow.keras import activations\n",
        "from tensorflow.keras.applications.vgg16 import VGG16\n",
        "from tensorflow.keras import layers, models\n",
        "from keras_preprocessing.image import ImageDataGenerator\n",
        "from keras.models import Sequential\n",
        "\n",
        "from keras.callbacks import EarlyStopping\n",
        "import splitfolders\n",
        "\n"
      ],
      "metadata": {
        "id": "fGCXvVxQmQg9"
      },
      "execution_count": 2,
      "outputs": []
    },
    {
      "cell_type": "markdown",
      "source": [
        "(b)\n",
        "Data Exploration and Pre-processing"
      ],
      "metadata": {
        "id": "qTyVulrBH0SY"
      }
    },
    {
      "cell_type": "markdown",
      "source": [
        "i.\n",
        "Images in each class are given in separate folders. The file\n",
        "Classes.xlsx\n",
        "pro-\n",
        "vides the classes assigned to the bird species images in each folder. Therefore,\n",
        "you encode your classes using one-hot encoding and\n",
        "Classes.xlsx\n",
        "."
      ],
      "metadata": {
        "id": "9IDYVTB_H1iR"
      }
    },
    {
      "cell_type": "code",
      "source": [
        "from google.colab import drive\n",
        "drive.mount('/content/drive')"
      ],
      "metadata": {
        "colab": {
          "base_uri": "https://localhost:8080/"
        },
        "id": "PQ1z-bhxIp09",
        "outputId": "823232db-b7b7-4a31-a711-eaa4e686bced"
      },
      "execution_count": 3,
      "outputs": [
        {
          "output_type": "stream",
          "name": "stdout",
          "text": [
            "Mounted at /content/drive\n"
          ]
        }
      ]
    },
    {
      "cell_type": "markdown",
      "source": [
        "ii.\n",
        "Randomly select\n",
        "d\n",
        "0\n",
        ".\n",
        "7\n",
        "n\n",
        "i\n",
        "e\n",
        "images from each folder as your training set,\n",
        "d\n",
        "0\n",
        ".\n",
        "15\n",
        "n\n",
        "i\n",
        "e\n",
        "as validation set, and the rest as your test set, where\n",
        "n\n",
        "i\n",
        "is the number of\n",
        "images in folder\n",
        "i\n",
        "and\n",
        "d\n",
        "x\n",
        "e\n",
        "is the ceiling of\n",
        "x\n"
      ],
      "metadata": {
        "id": "1euJw5P7CWFe"
      }
    },
    {
      "cell_type": "code",
      "source": [
        "#Loading the files from drive\n",
        "input_folder = '/content/drive/MyDrive/Colab Notebooks/Data/images'\n",
        "\n",
        "#Using split folder to split the data into test, train and validation\n",
        "splitfolders.ratio(input_folder, output='/content/drive/MyDrive/Colab Notebooks/Data/FormattedImages',\n",
        "                  ratio = (.7, .15, .15))\n",
        "\n",
        "\n",
        "# df = pd.read_excel('/content/drive/MyDrive/Colab Notebooks/Data/Classes.xlsx')\n"
      ],
      "metadata": {
        "colab": {
          "base_uri": "https://localhost:8080/"
        },
        "id": "ZzolYnVpkNhU",
        "outputId": "328d1ee3-96ba-4094-8bdb-73fe9c14b25a"
      },
      "execution_count": 4,
      "outputs": [
        {
          "output_type": "stream",
          "name": "stderr",
          "text": [
            "Copying files: 1176 files [22:10,  1.13s/ files]\n"
          ]
        }
      ]
    },
    {
      "cell_type": "code",
      "source": [
        "#Assigning the test, train and validation data to variables\n",
        "testData = '/content/drive/MyDrive/Colab Notebooks/Data/FormattedImages/test'\n",
        "trainData = '/content/drive/MyDrive/Colab Notebooks/Data/FormattedImages/train'\n",
        "valData = '/content/drive/MyDrive/Colab Notebooks/Data/FormattedImages/val'\n"
      ],
      "metadata": {
        "id": "-kySDW-zBXmj"
      },
      "execution_count": 5,
      "outputs": []
    },
    {
      "cell_type": "markdown",
      "source": [
        "iii.\n",
        "In order for all the images to have the same size, zero-pad or resize the images\n",
        "in your dataset. This can be done using various tools, including OpenCV."
      ],
      "metadata": {
        "id": "SMgpFjwLCjXg"
      }
    },
    {
      "cell_type": "code",
      "source": [
        "generator = ImageDataGenerator()\n",
        "\n",
        "#Pre processing the data\n",
        "val_generator = generator.flow_from_directory(valData, shuffle=True, class_mode='categorical', target_size=(224, 224), batch_size=5 )\n",
        "train_generator = generator.flow_from_directory(trainData, batch_size=5, shuffle=True, class_mode='categorical', target_size=(224, 224) )\n",
        "test_generator = generator.flow_from_directory(testData, shuffle=True, class_mode='categorical', target_size=(224, 224), batch_size=5)\n",
        "\n"
      ],
      "metadata": {
        "colab": {
          "base_uri": "https://localhost:8080/"
        },
        "id": "xh7pSTAiBQTN",
        "outputId": "9b294253-4391-4f0c-fd58-e56cd80a9d60"
      },
      "execution_count": 6,
      "outputs": [
        {
          "output_type": "stream",
          "name": "stdout",
          "text": [
            "Found 171 images belonging to 20 classes.\n",
            "Found 820 images belonging to 20 classes.\n",
            "Found 185 images belonging to 20 classes.\n"
          ]
        }
      ]
    },
    {
      "cell_type": "code",
      "source": [
        "#Creating the parameters for the model and assigning the values\n",
        "n_classes = 20\n",
        "batch_size = 5\n",
        "epochs = 100\n",
        "height = 224\n",
        "width = 224\n",
        "channels = 3\n",
        "input_shape = (height, width, channels)"
      ],
      "metadata": {
        "id": "ctKVSbIwC3zI"
      },
      "execution_count": 7,
      "outputs": []
    },
    {
      "cell_type": "code",
      "source": [
        "#First model EfficientNetB0\n",
        "netB0 = EfficientNetB0(weights='imagenet', include_top=False, input_shape=input_shape, classes=n_classes)\n",
        "netB0.trainable = False\n",
        "\n",
        "#Setting the model\n",
        "model = Sequential()\n",
        "model.add(netB0)\n",
        "model.add(keras.layers.BatchNormalization())\n",
        "model.add(keras.layers.Activation(activations.relu))\n",
        "model.add(GlobalMaxPooling2D())\n",
        "model.add(Dropout(0.2))\n",
        "model.add(Dense(n_classes, activation='softmax'))\n",
        "\n",
        "model.summary()"
      ],
      "metadata": {
        "colab": {
          "base_uri": "https://localhost:8080/"
        },
        "id": "aJeoF5-LC5u3",
        "outputId": "5544d79a-2073-4787-eb31-49a054afa34d"
      },
      "execution_count": 8,
      "outputs": [
        {
          "output_type": "stream",
          "name": "stdout",
          "text": [
            "Downloading data from https://storage.googleapis.com/keras-applications/efficientnetb0_notop.h5\n",
            "16705208/16705208 [==============================] - 2s 0us/step\n",
            "Model: \"sequential\"\n",
            "_________________________________________________________________\n",
            " Layer (type)                Output Shape              Param #   \n",
            "=================================================================\n",
            " efficientnetb0 (Functional)  (None, 7, 7, 1280)       4049571   \n",
            "                                                                 \n",
            " batch_normalization (BatchN  (None, 7, 7, 1280)       5120      \n",
            " ormalization)                                                   \n",
            "                                                                 \n",
            " activation (Activation)     (None, 7, 7, 1280)        0         \n",
            "                                                                 \n",
            " global_max_pooling2d (Globa  (None, 1280)             0         \n",
            " lMaxPooling2D)                                                  \n",
            "                                                                 \n",
            " dropout (Dropout)           (None, 1280)              0         \n",
            "                                                                 \n",
            " dense (Dense)               (None, 20)                25620     \n",
            "                                                                 \n",
            "=================================================================\n",
            "Total params: 4,080,311\n",
            "Trainable params: 28,180\n",
            "Non-trainable params: 4,052,131\n",
            "_________________________________________________________________\n"
          ]
        }
      ]
    },
    {
      "cell_type": "code",
      "source": [
        "#Setting the early stop \n",
        "optimizer = Adam(learning_rate = 0.001)\n",
        "\n",
        "early_stop = EarlyStopping(monitor='val_loss', mode='min', verbose=1, patience=5, restore_best_weights=True)\n",
        "\n",
        "#Compiling\n",
        "model.compile(optimizer=optimizer, loss='categorical_crossentropy', metrics=['accuracy'])"
      ],
      "metadata": {
        "id": "T4ckcg3EC_qh"
      },
      "execution_count": 9,
      "outputs": []
    },
    {
      "cell_type": "code",
      "source": [
        "#Fitting the model to the data\n",
        "saved_model = model.fit(train_generator, validation_data = val_generator, callbacks = [early_stop], verbose = 1, epochs = epochs)\n"
      ],
      "metadata": {
        "colab": {
          "base_uri": "https://localhost:8080/"
        },
        "id": "4vN0Yu7MDCuj",
        "outputId": "887a1a1b-8a96-41da-eb59-d42fbf8dd746"
      },
      "execution_count": 10,
      "outputs": [
        {
          "output_type": "stream",
          "name": "stdout",
          "text": [
            "Epoch 1/100\n",
            "164/164 [==============================] - 22s 56ms/step - loss: 6.4270 - accuracy: 0.3305 - val_loss: 1.0874 - val_accuracy: 0.7895\n",
            "Epoch 2/100\n",
            "164/164 [==============================] - 8s 46ms/step - loss: 2.1641 - accuracy: 0.6756 - val_loss: 0.7975 - val_accuracy: 0.8772\n",
            "Epoch 3/100\n",
            "164/164 [==============================] - 7s 45ms/step - loss: 1.7022 - accuracy: 0.7561 - val_loss: 1.1477 - val_accuracy: 0.8421\n",
            "Epoch 4/100\n",
            "164/164 [==============================] - 7s 45ms/step - loss: 1.1554 - accuracy: 0.8171 - val_loss: 1.5304 - val_accuracy: 0.8129\n",
            "Epoch 5/100\n",
            "164/164 [==============================] - 10s 62ms/step - loss: 0.8815 - accuracy: 0.8768 - val_loss: 0.8848 - val_accuracy: 0.8480\n",
            "Epoch 6/100\n",
            "164/164 [==============================] - 9s 54ms/step - loss: 0.8585 - accuracy: 0.8707 - val_loss: 0.7736 - val_accuracy: 0.8772\n",
            "Epoch 7/100\n",
            "164/164 [==============================] - 8s 47ms/step - loss: 0.8791 - accuracy: 0.8561 - val_loss: 1.0163 - val_accuracy: 0.8772\n",
            "Epoch 8/100\n",
            "164/164 [==============================] - 7s 45ms/step - loss: 0.7473 - accuracy: 0.8732 - val_loss: 0.8327 - val_accuracy: 0.8889\n",
            "Epoch 9/100\n",
            "164/164 [==============================] - 8s 48ms/step - loss: 0.5147 - accuracy: 0.9122 - val_loss: 0.8783 - val_accuracy: 0.8772\n",
            "Epoch 10/100\n",
            "164/164 [==============================] - 8s 46ms/step - loss: 0.5371 - accuracy: 0.9195 - val_loss: 1.1621 - val_accuracy: 0.8596\n",
            "Epoch 11/100\n",
            "163/164 [============================>.] - ETA: 0s - loss: 0.6845 - accuracy: 0.8982Restoring model weights from the end of the best epoch: 6.\n",
            "164/164 [==============================] - 8s 46ms/step - loss: 0.6915 - accuracy: 0.8976 - val_loss: 1.0394 - val_accuracy: 0.8772\n",
            "Epoch 11: early stopping\n"
          ]
        }
      ]
    },
    {
      "cell_type": "code",
      "source": [
        "#Calculating the Train accuracy\n",
        "train_loss, train_accuracy = model.evaluate(x = train_generator, verbose = 1)\n",
        "print('Accuracy Training :', round((train_accuracy*100), 3), \"%\")"
      ],
      "metadata": {
        "colab": {
          "base_uri": "https://localhost:8080/"
        },
        "id": "UzTLKa8gH-PH",
        "outputId": "e0962dd3-bca0-480d-bfbc-01b61687c296"
      },
      "execution_count": 11,
      "outputs": [
        {
          "output_type": "stream",
          "name": "stdout",
          "text": [
            "164/164 [==============================] - 6s 37ms/step - loss: 0.1502 - accuracy: 0.9744\n",
            "Accuracy Training : 97.439 %\n"
          ]
        }
      ]
    },
    {
      "cell_type": "code",
      "source": [
        "#Calculating the Validation accuracy\n",
        "val_loss, val_accuracy = model.evaluate(x = val_generator, verbose = 1)\n",
        "print('Accuracy Validation:', round((val_accuracy*100), 3), \"%\")"
      ],
      "metadata": {
        "colab": {
          "base_uri": "https://localhost:8080/"
        },
        "id": "5315tMpRc5Xb",
        "outputId": "db039227-4254-4473-ddeb-d5d7271d7d78"
      },
      "execution_count": 12,
      "outputs": [
        {
          "output_type": "stream",
          "name": "stdout",
          "text": [
            "35/35 [==============================] - 1s 36ms/step - loss: 0.7736 - accuracy: 0.8772\n",
            "Accuracy Validation: 87.719 %\n"
          ]
        }
      ]
    },
    {
      "cell_type": "code",
      "source": [
        "#Calculating the Test accuracy\n",
        "test_loss, test_accuracy = model.evaluate(x = test_generator, verbose = 1)\n",
        "print('Accuracy Test:', round((test_accuracy*100), 3), \"%\")"
      ],
      "metadata": {
        "colab": {
          "base_uri": "https://localhost:8080/"
        },
        "id": "6X-Etdgsc73Q",
        "outputId": "78ed6a50-f4c3-4f9e-ddd3-1dc63731a279"
      },
      "execution_count": 13,
      "outputs": [
        {
          "output_type": "stream",
          "name": "stdout",
          "text": [
            "37/37 [==============================] - 1s 38ms/step - loss: 0.8474 - accuracy: 0.8595\n",
            "Accuracy Test: 85.946 %\n"
          ]
        }
      ]
    },
    {
      "cell_type": "code",
      "source": [
        "#Generating the values to plot graphs\n",
        "test_generator.batch_size  = test_generator.samples\n",
        "test_dataset = next(test_generator)\n",
        "\n",
        "y_pred = model.predict(test_generator)\n",
        "y_pred = np.argmax(y_pred, axis=1)"
      ],
      "metadata": {
        "colab": {
          "base_uri": "https://localhost:8080/"
        },
        "id": "5pTqm0RMc_5U",
        "outputId": "98429b44-493b-4dc9-a4a9-463835d27eee"
      },
      "execution_count": 14,
      "outputs": [
        {
          "output_type": "stream",
          "name": "stdout",
          "text": [
            "1/1 [==============================] - 5s 5s/step\n"
          ]
        }
      ]
    },
    {
      "cell_type": "code",
      "source": [
        "#Graph pg Loss and accuracy \n",
        "plt.figure(figsize=(18,8))\n",
        "\n",
        "plt.suptitle('Accuracy and Loss Graph', fontsize=15)\n",
        "\n",
        "plt.subplot(1,2,1)\n",
        "plt.plot(saved_model.history['loss'], label='Training Loss')\n",
        "plt.plot(saved_model.history['val_loss'], label='Validation Loss')\n",
        "plt.legend()\n",
        "plt.xlabel('Epochs count', fontsize=10)\n",
        "plt.ylabel('Loss', fontsize=10)\n",
        "\n",
        "plt.subplot(1,2,2)\n",
        "plt.plot(saved_model.history['accuracy'], label='Train Accuracy')\n",
        "plt.plot(saved_model.history['val_accuracy'], label='Validation Accuracy')\n",
        "plt.legend()\n",
        "plt.xlabel('Epochs count', fontsize=10)\n",
        "plt.ylabel('Accuracy', fontsize=10)\n"
      ],
      "metadata": {
        "colab": {
          "base_uri": "https://localhost:8080/",
          "height": 572
        },
        "id": "myaEvvbgdHDR",
        "outputId": "29bc718c-2f82-41f1-fb79-30a2c02f23e0"
      },
      "execution_count": 15,
      "outputs": [
        {
          "output_type": "execute_result",
          "data": {
            "text/plain": [
              "Text(0, 0.5, 'Accuracy')"
            ]
          },
          "metadata": {},
          "execution_count": 15
        },
        {
          "output_type": "display_data",
          "data": {
            "text/plain": [
              "<Figure size 1296x576 with 2 Axes>"
            ],
            "image/png": "[encoded data removed]"
          },
          "metadata": {
            "needs_background": "light"
          }
        }
      ]
    },
    {
      "cell_type": "code",
      "source": [
        "#Values for each classes\n",
        "target = [\"Category {}\".format(i) for i in range(n_classes)]\n",
        "print(classification_report(np.argmax(test_dataset[1], axis=1), y_pred, target_names=target))"
      ],
      "metadata": {
        "colab": {
          "base_uri": "https://localhost:8080/"
        },
        "id": "rkykf3f7duyX",
        "outputId": "a7036ec5-c504-474c-ea61-ae9120e2d4fb"
      },
      "execution_count": 16,
      "outputs": [
        {
          "output_type": "stream",
          "name": "stdout",
          "text": [
            "              precision    recall  f1-score   support\n",
            "\n",
            "  Category 0       1.00      0.88      0.93         8\n",
            "  Category 1       1.00      1.00      1.00         9\n",
            "  Category 2       1.00      1.00      1.00        10\n",
            "  Category 3       0.69      0.90      0.78        10\n",
            "  Category 4       0.62      0.56      0.59         9\n",
            "  Category 5       0.88      0.78      0.82         9\n",
            "  Category 6       0.69      1.00      0.82         9\n",
            "  Category 7       0.88      0.78      0.82         9\n",
            "  Category 8       1.00      1.00      1.00         9\n",
            "  Category 9       1.00      0.89      0.94         9\n",
            " Category 10       1.00      0.78      0.88         9\n",
            " Category 11       0.88      0.78      0.82         9\n",
            " Category 12       1.00      0.78      0.88         9\n",
            " Category 13       0.67      0.89      0.76         9\n",
            " Category 14       1.00      0.67      0.80         9\n",
            " Category 15       0.70      0.70      0.70        10\n",
            " Category 16       0.83      1.00      0.91        10\n",
            " Category 17       0.83      1.00      0.91        10\n",
            " Category 18       1.00      0.78      0.88         9\n",
            " Category 19       0.91      1.00      0.95        10\n",
            "\n",
            "    accuracy                           0.86       185\n",
            "   macro avg       0.88      0.86      0.86       185\n",
            "weighted avg       0.88      0.86      0.86       185\n",
            "\n"
          ]
        }
      ]
    },
    {
      "cell_type": "code",
      "source": [
        "#Second model VGG16\n",
        "base_model = VGG16(weights=\"imagenet\", include_top=False, input_shape=input_shape, classes=n_classes)\n",
        "base_model.trainable = False\n",
        "\n",
        "#Setting the values\n",
        "model_vgg = Sequential()\n",
        "model_vgg.add(base_model)\n",
        "model_vgg.add(keras.layers.BatchNormalization())\n",
        "model_vgg.add(keras.layers.Activation(activations.relu))\n",
        "model_vgg.add(GlobalMaxPooling2D())\n",
        "model_vgg.add(Dropout(0.2))\n",
        "model_vgg.add(Dense(n_classes, activation='softmax'))\n",
        "\n",
        "model_vgg.summary()"
      ],
      "metadata": {
        "colab": {
          "base_uri": "https://localhost:8080/"
        },
        "id": "0cOQEBpwdxUV",
        "outputId": "757236b6-5f07-49e3-fb1c-3249e52a4916"
      },
      "execution_count": 17,
      "outputs": [
        {
          "output_type": "stream",
          "name": "stdout",
          "text": [
            "Downloading data from https://storage.googleapis.com/tensorflow/keras-applications/vgg16/vgg16_weights_tf_dim_ordering_tf_kernels_notop.h5\n",
            "58889256/58889256 [==============================] - 3s 0us/step\n",
            "Model: \"sequential_1\"\n",
            "_________________________________________________________________\n",
            " Layer (type)                Output Shape              Param #   \n",
            "=================================================================\n",
            " vgg16 (Functional)          (None, 7, 7, 512)         14714688  \n",
            "                                                                 \n",
            " batch_normalization_1 (Batc  (None, 7, 7, 512)        2048      \n",
            " hNormalization)                                                 \n",
            "                                                                 \n",
            " activation_1 (Activation)   (None, 7, 7, 512)         0         \n",
            "                                                                 \n",
            " global_max_pooling2d_1 (Glo  (None, 512)              0         \n",
            " balMaxPooling2D)                                                \n",
            "                                                                 \n",
            " dropout_1 (Dropout)         (None, 512)               0         \n",
            "                                                                 \n",
            " dense_1 (Dense)             (None, 20)                10260     \n",
            "                                                                 \n",
            "=================================================================\n",
            "Total params: 14,726,996\n",
            "Trainable params: 11,284\n",
            "Non-trainable params: 14,715,712\n",
            "_________________________________________________________________\n"
          ]
        }
      ]
    },
    {
      "cell_type": "code",
      "source": [
        "#Setting the early stop parameter\n",
        "optimizer = Adam(learning_rate = 0.0001)\n",
        "early_stop = EarlyStopping(monitor='val_accuracy', mode='max', verbose=1, patience=5, restore_best_weights=True)\n",
        "\n",
        "model_vgg.compile(optimizer=optimizer, loss='categorical_crossentropy', metrics=['accuracy'])"
      ],
      "metadata": {
        "id": "t1o9nANheSH9"
      },
      "execution_count": 18,
      "outputs": []
    },
    {
      "cell_type": "code",
      "source": [
        "#Fitting the model on data\n",
        "model_history = model_vgg.fit(train_generator, validation_data = val_generator, callbacks = [early_stop], verbose = 1, epochs = epochs)\n"
      ],
      "metadata": {
        "colab": {
          "base_uri": "https://localhost:8080/"
        },
        "id": "1z8ZMMsweUXM",
        "outputId": "c0d34e82-86cb-4fdc-f54d-58219d3bb65c"
      },
      "execution_count": 19,
      "outputs": [
        {
          "output_type": "stream",
          "name": "stdout",
          "text": [
            "Epoch 1/100\n",
            "164/164 [==============================] - 11s 52ms/step - loss: 11.0335 - accuracy: 0.0427 - val_loss: 8.3011 - val_accuracy: 0.0702\n",
            "Epoch 2/100\n",
            "164/164 [==============================] - 7s 46ms/step - loss: 9.5546 - accuracy: 0.0805 - val_loss: 7.0663 - val_accuracy: 0.0819\n",
            "Epoch 3/100\n",
            "164/164 [==============================] - 8s 47ms/step - loss: 8.8317 - accuracy: 0.0854 - val_loss: 6.4556 - val_accuracy: 0.0936\n",
            "Epoch 4/100\n",
            "164/164 [==============================] - 8s 46ms/step - loss: 8.5365 - accuracy: 0.0841 - val_loss: 5.9504 - val_accuracy: 0.1287\n",
            "Epoch 5/100\n",
            "164/164 [==============================] - 8s 47ms/step - loss: 7.9362 - accuracy: 0.1122 - val_loss: 5.5816 - val_accuracy: 0.1404\n",
            "Epoch 6/100\n",
            "164/164 [==============================] - 8s 46ms/step - loss: 7.4040 - accuracy: 0.1402 - val_loss: 5.2105 - val_accuracy: 0.1813\n",
            "Epoch 7/100\n",
            "164/164 [==============================] - 8s 47ms/step - loss: 7.2955 - accuracy: 0.1451 - val_loss: 4.8748 - val_accuracy: 0.2047\n",
            "Epoch 8/100\n",
            "164/164 [==============================] - 8s 46ms/step - loss: 6.8074 - accuracy: 0.1683 - val_loss: 4.5770 - val_accuracy: 0.2105\n",
            "Epoch 9/100\n",
            "164/164 [==============================] - 8s 46ms/step - loss: 6.4193 - accuracy: 0.1695 - val_loss: 4.3623 - val_accuracy: 0.2515\n",
            "Epoch 10/100\n",
            "164/164 [==============================] - 8s 47ms/step - loss: 6.0801 - accuracy: 0.1854 - val_loss: 4.0519 - val_accuracy: 0.2807\n",
            "Epoch 11/100\n",
            "164/164 [==============================] - 8s 48ms/step - loss: 5.6398 - accuracy: 0.2171 - val_loss: 3.9060 - val_accuracy: 0.2749\n",
            "Epoch 12/100\n",
            "164/164 [==============================] - 9s 56ms/step - loss: 5.2401 - accuracy: 0.2366 - val_loss: 3.6630 - val_accuracy: 0.2865\n",
            "Epoch 13/100\n",
            "164/164 [==============================] - 9s 55ms/step - loss: 5.0010 - accuracy: 0.2622 - val_loss: 3.4832 - val_accuracy: 0.2982\n",
            "Epoch 14/100\n",
            "164/164 [==============================] - 8s 48ms/step - loss: 4.8103 - accuracy: 0.2768 - val_loss: 3.3321 - val_accuracy: 0.3275\n",
            "Epoch 15/100\n",
            "164/164 [==============================] - 8s 48ms/step - loss: 4.6437 - accuracy: 0.2756 - val_loss: 3.2080 - val_accuracy: 0.3567\n",
            "Epoch 16/100\n",
            "164/164 [==============================] - 8s 47ms/step - loss: 4.4691 - accuracy: 0.2890 - val_loss: 3.0972 - val_accuracy: 0.3509\n",
            "Epoch 17/100\n",
            "164/164 [==============================] - 8s 47ms/step - loss: 4.0708 - accuracy: 0.3171 - val_loss: 3.0048 - val_accuracy: 0.3684\n",
            "Epoch 18/100\n",
            "164/164 [==============================] - 8s 47ms/step - loss: 4.0731 - accuracy: 0.3220 - val_loss: 2.8617 - val_accuracy: 0.3801\n",
            "Epoch 19/100\n",
            "164/164 [==============================] - 8s 47ms/step - loss: 3.8889 - accuracy: 0.3402 - val_loss: 2.7770 - val_accuracy: 0.4211\n",
            "Epoch 20/100\n",
            "164/164 [==============================] - 8s 46ms/step - loss: 3.7060 - accuracy: 0.3646 - val_loss: 2.6633 - val_accuracy: 0.4211\n",
            "Epoch 21/100\n",
            "164/164 [==============================] - 8s 52ms/step - loss: 3.7138 - accuracy: 0.3463 - val_loss: 2.5527 - val_accuracy: 0.4269\n",
            "Epoch 22/100\n",
            "164/164 [==============================] - 8s 47ms/step - loss: 3.4551 - accuracy: 0.3768 - val_loss: 2.5082 - val_accuracy: 0.4327\n",
            "Epoch 23/100\n",
            "164/164 [==============================] - 10s 59ms/step - loss: 3.2867 - accuracy: 0.4024 - val_loss: 2.4373 - val_accuracy: 0.4795\n",
            "Epoch 24/100\n",
            "164/164 [==============================] - 9s 51ms/step - loss: 3.2433 - accuracy: 0.4061 - val_loss: 2.3233 - val_accuracy: 0.4737\n",
            "Epoch 25/100\n",
            "164/164 [==============================] - 8s 47ms/step - loss: 3.2241 - accuracy: 0.4207 - val_loss: 2.3336 - val_accuracy: 0.4854\n",
            "Epoch 26/100\n",
            "164/164 [==============================] - 8s 47ms/step - loss: 3.1088 - accuracy: 0.4341 - val_loss: 2.2272 - val_accuracy: 0.5263\n",
            "Epoch 27/100\n",
            "164/164 [==============================] - 8s 46ms/step - loss: 3.0363 - accuracy: 0.4390 - val_loss: 2.1552 - val_accuracy: 0.5088\n",
            "Epoch 28/100\n",
            "164/164 [==============================] - 8s 47ms/step - loss: 3.0090 - accuracy: 0.4317 - val_loss: 2.1208 - val_accuracy: 0.5497\n",
            "Epoch 29/100\n",
            "164/164 [==============================] - 8s 46ms/step - loss: 2.8579 - accuracy: 0.4720 - val_loss: 2.0532 - val_accuracy: 0.5380\n",
            "Epoch 30/100\n",
            "164/164 [==============================] - 8s 48ms/step - loss: 2.6506 - accuracy: 0.4951 - val_loss: 2.0281 - val_accuracy: 0.5731\n",
            "Epoch 31/100\n",
            "164/164 [==============================] - 8s 46ms/step - loss: 2.4438 - accuracy: 0.5024 - val_loss: 1.9898 - val_accuracy: 0.5731\n",
            "Epoch 32/100\n",
            "164/164 [==============================] - 8s 46ms/step - loss: 2.3486 - accuracy: 0.5085 - val_loss: 1.9727 - val_accuracy: 0.5614\n",
            "Epoch 33/100\n",
            "164/164 [==============================] - 8s 47ms/step - loss: 2.3794 - accuracy: 0.5268 - val_loss: 1.9244 - val_accuracy: 0.5673\n",
            "Epoch 34/100\n",
            "164/164 [==============================] - 8s 47ms/step - loss: 2.3318 - accuracy: 0.5585 - val_loss: 1.9056 - val_accuracy: 0.5789\n",
            "Epoch 35/100\n",
            "164/164 [==============================] - 8s 47ms/step - loss: 2.2319 - accuracy: 0.5451 - val_loss: 1.9118 - val_accuracy: 0.5848\n",
            "Epoch 36/100\n",
            "164/164 [==============================] - 8s 47ms/step - loss: 2.1927 - accuracy: 0.5439 - val_loss: 1.8641 - val_accuracy: 0.5789\n",
            "Epoch 37/100\n",
            "164/164 [==============================] - 8s 51ms/step - loss: 2.1543 - accuracy: 0.5317 - val_loss: 1.8316 - val_accuracy: 0.5789\n",
            "Epoch 38/100\n",
            "164/164 [==============================] - 8s 47ms/step - loss: 2.0953 - accuracy: 0.5451 - val_loss: 1.7952 - val_accuracy: 0.5965\n",
            "Epoch 39/100\n",
            "164/164 [==============================] - 8s 47ms/step - loss: 2.2123 - accuracy: 0.5354 - val_loss: 1.8063 - val_accuracy: 0.6140\n",
            "Epoch 40/100\n",
            "164/164 [==============================] - 8s 47ms/step - loss: 2.0247 - accuracy: 0.5707 - val_loss: 1.7483 - val_accuracy: 0.6023\n",
            "Epoch 41/100\n",
            "164/164 [==============================] - 8s 48ms/step - loss: 1.7894 - accuracy: 0.6122 - val_loss: 1.7327 - val_accuracy: 0.6082\n",
            "Epoch 42/100\n",
            "164/164 [==============================] - 8s 46ms/step - loss: 1.8275 - accuracy: 0.5951 - val_loss: 1.7112 - val_accuracy: 0.5906\n",
            "Epoch 43/100\n",
            "164/164 [==============================] - 8s 47ms/step - loss: 1.9015 - accuracy: 0.5841 - val_loss: 1.6693 - val_accuracy: 0.6082\n",
            "Epoch 44/100\n",
            "164/164 [==============================] - ETA: 0s - loss: 1.8344 - accuracy: 0.6000Restoring model weights from the end of the best epoch: 39.\n",
            "164/164 [==============================] - 8s 47ms/step - loss: 1.8344 - accuracy: 0.6000 - val_loss: 1.7161 - val_accuracy: 0.6023\n",
            "Epoch 44: early stopping\n"
          ]
        }
      ]
    },
    {
      "cell_type": "code",
      "source": [
        "train_loss, train_accuracy = model_vgg.evaluate(x = train_generator, verbose = 1)\n",
        "print('Accuracy Training:', round((train_accuracy * 100), 3), \"%\")"
      ],
      "metadata": {
        "colab": {
          "base_uri": "https://localhost:8080/"
        },
        "id": "1JOcaxYfeWY-",
        "outputId": "e4722b01-7bfd-4177-e379-eea0b7ede65f"
      },
      "execution_count": 20,
      "outputs": [
        {
          "output_type": "stream",
          "name": "stdout",
          "text": [
            "164/164 [==============================] - 6s 38ms/step - loss: 0.6256 - accuracy: 0.8146\n",
            "Accuracy Training: 81.463 %\n"
          ]
        }
      ]
    },
    {
      "cell_type": "code",
      "source": [
        "val_loss, val_accuracy = model_vgg.evaluate(x = val_generator, verbose = 1)\n",
        "print('Accuracy Validation:', round((val_accuracy * 100), 3), \"%\")"
      ],
      "metadata": {
        "colab": {
          "base_uri": "https://localhost:8080/"
        },
        "id": "VhOUhdk_eXra",
        "outputId": "74c14e4c-077a-46f6-dff5-ab86af339aa1"
      },
      "execution_count": 21,
      "outputs": [
        {
          "output_type": "stream",
          "name": "stdout",
          "text": [
            "35/35 [==============================] - 1s 37ms/step - loss: 1.8063 - accuracy: 0.6140\n",
            "Accuracy Validation: 61.404 %\n"
          ]
        }
      ]
    },
    {
      "cell_type": "code",
      "source": [
        "test_loss, test_accuracy = model_vgg.evaluate(x = test_generator, verbose = 1)\n",
        "print('Accuracy Test:', round((test_accuracy * 100), 3), \"%\")"
      ],
      "metadata": {
        "colab": {
          "base_uri": "https://localhost:8080/"
        },
        "id": "5dMDDYo5eZ-a",
        "outputId": "380dcaed-70cc-4353-82b3-62f23424f8bb"
      },
      "execution_count": 22,
      "outputs": [
        {
          "output_type": "stream",
          "name": "stdout",
          "text": [
            "1/1 [==============================] - 26s 26s/step - loss: 2.2390 - accuracy: 0.5189\n",
            "Accuracy Test: 51.892 %\n"
          ]
        }
      ]
    },
    {
      "cell_type": "code",
      "source": [
        "test_generator.batch_size  = test_generator.samples\n",
        "test_dataset = next(test_generator)\n",
        "\n",
        "y_pred = model_vgg.predict(test_generator)\n",
        "y_pred = np.argmax(y_pred, axis=1)"
      ],
      "metadata": {
        "colab": {
          "base_uri": "https://localhost:8080/"
        },
        "id": "x2vypfy_eb51",
        "outputId": "4de8f480-b9b7-4d1d-a9b0-b73c09090352"
      },
      "execution_count": 23,
      "outputs": [
        {
          "output_type": "stream",
          "name": "stdout",
          "text": [
            "1/1 [==============================] - 1s 1s/step\n"
          ]
        }
      ]
    },
    {
      "cell_type": "code",
      "source": [
        "plt.figure(figsize=(18,8))\n",
        "plt.suptitle('Accuracy and Loss Graph', fontsize=15)\n",
        "\n",
        "plt.subplot(1,2,1)\n",
        "plt.plot(model_history.history['loss'], label='Training Loss')\n",
        "plt.plot(model_history.history['val_loss'], label='Validation Loss')\n",
        "plt.legend()\n",
        "plt.xlabel('Epochs count', fontsize=10)\n",
        "plt.ylabel('Loss', fontsize=10)\n",
        "\n",
        "plt.subplot(1,2,2)\n",
        "plt.plot(model_history.history['accuracy'], label='Train Accuracy')\n",
        "plt.plot(model_history.history['val_accuracy'], label='Validation Accuracy')\n",
        "plt.legend()\n",
        "plt.xlabel('Epochs count', fontsize=10)\n",
        "plt.ylabel('Accuracy', fontsize=10)\n"
      ],
      "metadata": {
        "colab": {
          "base_uri": "https://localhost:8080/",
          "height": 572
        },
        "id": "KJ8yEurledMW",
        "outputId": "08c09115-8c48-45c0-8b81-c27eb2a69fc2"
      },
      "execution_count": 24,
      "outputs": [
        {
          "output_type": "execute_result",
          "data": {
            "text/plain": [
              "Text(0, 0.5, 'Accuracy')"
            ]
          },
          "metadata": {},
          "execution_count": 24
        },
        {
          "output_type": "display_data",
          "data": {
            "text/plain": [
              "<Figure size 1296x576 with 2 Axes>"
            ],
            "image/png": "[encoded data removed]"
          },
          "metadata": {
            "needs_background": "light"
          }
        }
      ]
    },
    {
      "cell_type": "code",
      "source": [
        "#Values for each classes\n",
        "target = [\"Category {}\".format(i) for i in range(n_classes)]\n",
        "print(classification_report(np.argmax(test_dataset[1], axis=1), y_pred, target_names=target))"
      ],
      "metadata": {
        "id": "8dyzzgsoobxU",
        "outputId": "bd8b8360-860f-4e5d-b8ce-366177ef6cf6",
        "colab": {
          "base_uri": "https://localhost:8080/"
        }
      },
      "execution_count": 25,
      "outputs": [
        {
          "output_type": "stream",
          "name": "stdout",
          "text": [
            "              precision    recall  f1-score   support\n",
            "\n",
            "  Category 0       0.67      0.50      0.57         8\n",
            "  Category 1       0.67      0.67      0.67         9\n",
            "  Category 2       0.33      0.30      0.32        10\n",
            "  Category 3       0.38      0.30      0.33        10\n",
            "  Category 4       0.50      0.67      0.57         9\n",
            "  Category 5       0.55      0.67      0.60         9\n",
            "  Category 6       0.46      0.67      0.55         9\n",
            "  Category 7       0.54      0.78      0.64         9\n",
            "  Category 8       0.50      0.33      0.40         9\n",
            "  Category 9       1.00      0.67      0.80         9\n",
            " Category 10       0.33      0.33      0.33         9\n",
            " Category 11       0.60      0.67      0.63         9\n",
            " Category 12       0.44      0.78      0.56         9\n",
            " Category 13       0.50      0.56      0.53         9\n",
            " Category 14       0.44      0.44      0.44         9\n",
            " Category 15       0.50      0.20      0.29        10\n",
            " Category 16       0.62      1.00      0.77        10\n",
            " Category 17       0.50      0.40      0.44        10\n",
            " Category 18       0.75      0.33      0.46         9\n",
            " Category 19       0.33      0.20      0.25        10\n",
            "\n",
            "    accuracy                           0.52       185\n",
            "   macro avg       0.53      0.52      0.51       185\n",
            "weighted avg       0.53      0.52      0.50       185\n",
            "\n"
          ]
        }
      ]
    },
    {
      "cell_type": "markdown",
      "source": [],
      "metadata": {
        "id": "XZNoRDN0HRbm"
      }
    }
  ]
}